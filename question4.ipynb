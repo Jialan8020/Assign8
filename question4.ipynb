{
  "nbformat": 4,
  "nbformat_minor": 0,
  "metadata": {
    "colab": {
      "name": "question4.ipynb",
      "provenance": [],
      "authorship_tag": "ABX9TyO1cNgRdWLG7u/829ylZOn2",
      "include_colab_link": true
    },
    "kernelspec": {
      "name": "python3",
      "display_name": "Python 3"
    }
  },
  "cells": [
    {
      "cell_type": "markdown",
      "metadata": {
        "id": "view-in-github",
        "colab_type": "text"
      },
      "source": [
        "<a href=\"https://colab.research.google.com/github/Jialan8020/Assign8/blob/master/question4.ipynb\" target=\"_parent\"><img src=\"https://colab.research.google.com/assets/colab-badge.svg\" alt=\"Open In Colab\"/></a>"
      ]
    },
    {
      "cell_type": "markdown",
      "metadata": {
        "id": "R4AG4H3xV8kv",
        "colab_type": "text"
      },
      "source": [
        "Fit a multilayer neural network model on the SHHS data to predict whether rdi4p > 7 using the variables from the previous HW assigment. Compare the test set accuracy with the penalized model from your previous HW."
      ]
    },
    {
      "cell_type": "code",
      "metadata": {
        "id": "KPThEU5MV1qL",
        "colab_type": "code",
        "colab": {}
      },
      "source": [
        "import pandas as pd\n",
        "import tensorflow as tf\n",
        "import numpy as np\n",
        "from sklearn.model_selection import cross_val_score\n",
        "from tensorflow import keras\n",
        "from sklearn.model_selection import train_test_split\n",
        "from sklearn import preprocessing\n",
        "from sklearn.metrics import accuracy_score"
      ],
      "execution_count": 0,
      "outputs": []
    },
    {
      "cell_type": "code",
      "metadata": {
        "id": "FxCRSAbAXh91",
        "colab_type": "code",
        "outputId": "44a765b6-2ac7-41d3-f0e2-b36e731944c5",
        "colab": {
          "base_uri": "https://localhost:8080/",
          "height": 193
        }
      },
      "source": [
        "dat = pd.read_csv(\"shhs.txt\",sep=\"\\t\")\n",
        "dat = dat.dropna()\n",
        "dat.head(4)"
      ],
      "execution_count": 62,
      "outputs": [
        {
          "output_type": "execute_result",
          "data": {
            "text/html": [
              "<div>\n",
              "<style scoped>\n",
              "    .dataframe tbody tr th:only-of-type {\n",
              "        vertical-align: middle;\n",
              "    }\n",
              "\n",
              "    .dataframe tbody tr th {\n",
              "        vertical-align: top;\n",
              "    }\n",
              "\n",
              "    .dataframe thead th {\n",
              "        text-align: right;\n",
              "    }\n",
              "</style>\n",
              "<table border=\"1\" class=\"dataframe\">\n",
              "  <thead>\n",
              "    <tr style=\"text-align: right;\">\n",
              "      <th></th>\n",
              "      <th>pptid</th>\n",
              "      <th>waist</th>\n",
              "      <th>COPD15</th>\n",
              "      <th>ASTHMA15</th>\n",
              "      <th>slp_lat</th>\n",
              "      <th>time_bed</th>\n",
              "      <th>timest1p</th>\n",
              "      <th>timest2p</th>\n",
              "      <th>times34p</th>\n",
              "      <th>timeremp</th>\n",
              "      <th>rdi4p</th>\n",
              "      <th>StLOutP</th>\n",
              "      <th>StOnsetP</th>\n",
              "      <th>SlpPrdP</th>\n",
              "      <th>Staging1</th>\n",
              "      <th>Staging2</th>\n",
              "      <th>Staging3</th>\n",
              "      <th>Staging4</th>\n",
              "      <th>Staging5</th>\n",
              "      <th>RestAn1</th>\n",
              "      <th>RestAn2</th>\n",
              "      <th>RestAn3</th>\n",
              "      <th>RestAn4</th>\n",
              "      <th>HTNDerv_s1</th>\n",
              "      <th>shhs1_tcvd</th>\n",
              "      <th>gender</th>\n",
              "      <th>age_s1</th>\n",
              "      <th>smokstat_s1</th>\n",
              "      <th>WASO</th>\n",
              "      <th>bmi_s1</th>\n",
              "    </tr>\n",
              "  </thead>\n",
              "  <tbody>\n",
              "    <tr>\n",
              "      <th>3</th>\n",
              "      <td>4</td>\n",
              "      <td>85.0</td>\n",
              "      <td>0.0</td>\n",
              "      <td>0.0</td>\n",
              "      <td>14.0</td>\n",
              "      <td>358.5</td>\n",
              "      <td>2.990033</td>\n",
              "      <td>29.401993</td>\n",
              "      <td>52.325581</td>\n",
              "      <td>15.282393</td>\n",
              "      <td>0.797342</td>\n",
              "      <td>54</td>\n",
              "      <td>82</td>\n",
              "      <td>301.0</td>\n",
              "      <td>1.0</td>\n",
              "      <td>0.0</td>\n",
              "      <td>0.0</td>\n",
              "      <td>0.0</td>\n",
              "      <td>0.0</td>\n",
              "      <td>1.0</td>\n",
              "      <td>0.0</td>\n",
              "      <td>0.0</td>\n",
              "      <td>0.0</td>\n",
              "      <td>1</td>\n",
              "      <td>0</td>\n",
              "      <td>1</td>\n",
              "      <td>48</td>\n",
              "      <td>0.0</td>\n",
              "      <td>43.5</td>\n",
              "      <td>20.185185</td>\n",
              "    </tr>\n",
              "    <tr>\n",
              "      <th>4</th>\n",
              "      <td>5</td>\n",
              "      <td>76.0</td>\n",
              "      <td>0.0</td>\n",
              "      <td>0.0</td>\n",
              "      <td>6.5</td>\n",
              "      <td>477.0</td>\n",
              "      <td>5.675676</td>\n",
              "      <td>68.648651</td>\n",
              "      <td>13.378378</td>\n",
              "      <td>12.297297</td>\n",
              "      <td>2.756757</td>\n",
              "      <td>7</td>\n",
              "      <td>20</td>\n",
              "      <td>370.0</td>\n",
              "      <td>1.0</td>\n",
              "      <td>0.0</td>\n",
              "      <td>0.0</td>\n",
              "      <td>0.0</td>\n",
              "      <td>0.0</td>\n",
              "      <td>1.0</td>\n",
              "      <td>0.0</td>\n",
              "      <td>0.0</td>\n",
              "      <td>0.0</td>\n",
              "      <td>1</td>\n",
              "      <td>0</td>\n",
              "      <td>0</td>\n",
              "      <td>66</td>\n",
              "      <td>2.0</td>\n",
              "      <td>100.5</td>\n",
              "      <td>23.309053</td>\n",
              "    </tr>\n",
              "    <tr>\n",
              "      <th>8</th>\n",
              "      <td>9</td>\n",
              "      <td>99.0</td>\n",
              "      <td>0.0</td>\n",
              "      <td>0.0</td>\n",
              "      <td>20.0</td>\n",
              "      <td>424.0</td>\n",
              "      <td>5.405406</td>\n",
              "      <td>42.389759</td>\n",
              "      <td>33.570412</td>\n",
              "      <td>18.634424</td>\n",
              "      <td>11.948791</td>\n",
              "      <td>133</td>\n",
              "      <td>173</td>\n",
              "      <td>351.5</td>\n",
              "      <td>1.0</td>\n",
              "      <td>0.0</td>\n",
              "      <td>0.0</td>\n",
              "      <td>0.0</td>\n",
              "      <td>0.0</td>\n",
              "      <td>1.0</td>\n",
              "      <td>0.0</td>\n",
              "      <td>0.0</td>\n",
              "      <td>0.0</td>\n",
              "      <td>1</td>\n",
              "      <td>0</td>\n",
              "      <td>1</td>\n",
              "      <td>69</td>\n",
              "      <td>2.0</td>\n",
              "      <td>52.5</td>\n",
              "      <td>25.817447</td>\n",
              "    </tr>\n",
              "    <tr>\n",
              "      <th>14</th>\n",
              "      <td>15</td>\n",
              "      <td>80.0</td>\n",
              "      <td>0.0</td>\n",
              "      <td>0.0</td>\n",
              "      <td>66.5</td>\n",
              "      <td>450.0</td>\n",
              "      <td>10.159363</td>\n",
              "      <td>64.741035</td>\n",
              "      <td>11.553785</td>\n",
              "      <td>13.545816</td>\n",
              "      <td>16.254980</td>\n",
              "      <td>33</td>\n",
              "      <td>166</td>\n",
              "      <td>251.0</td>\n",
              "      <td>1.0</td>\n",
              "      <td>0.0</td>\n",
              "      <td>0.0</td>\n",
              "      <td>0.0</td>\n",
              "      <td>0.0</td>\n",
              "      <td>1.0</td>\n",
              "      <td>0.0</td>\n",
              "      <td>0.0</td>\n",
              "      <td>0.0</td>\n",
              "      <td>1</td>\n",
              "      <td>0</td>\n",
              "      <td>0</td>\n",
              "      <td>58</td>\n",
              "      <td>2.0</td>\n",
              "      <td>132.5</td>\n",
              "      <td>23.937672</td>\n",
              "    </tr>\n",
              "  </tbody>\n",
              "</table>\n",
              "</div>"
            ],
            "text/plain": [
              "    pptid  waist  COPD15  ASTHMA15  ...  age_s1  smokstat_s1   WASO     bmi_s1\n",
              "3       4   85.0     0.0       0.0  ...      48          0.0   43.5  20.185185\n",
              "4       5   76.0     0.0       0.0  ...      66          2.0  100.5  23.309053\n",
              "8       9   99.0     0.0       0.0  ...      69          2.0   52.5  25.817447\n",
              "14     15   80.0     0.0       0.0  ...      58          2.0  132.5  23.937672\n",
              "\n",
              "[4 rows x 30 columns]"
            ]
          },
          "metadata": {
            "tags": []
          },
          "execution_count": 62
        }
      ]
    },
    {
      "cell_type": "code",
      "metadata": {
        "id": "szQd25heXw0R",
        "colab_type": "code",
        "outputId": "f1caa447-fb1c-4409-8ee0-4327e1921029",
        "colab": {
          "base_uri": "https://localhost:8080/",
          "height": 419
        }
      },
      "source": [
        "# Extract the rdi4p column\n",
        "rdi = pd.DataFrame(dat[\"rdi4p\"])\n",
        "rdi"
      ],
      "execution_count": 63,
      "outputs": [
        {
          "output_type": "execute_result",
          "data": {
            "text/html": [
              "<div>\n",
              "<style scoped>\n",
              "    .dataframe tbody tr th:only-of-type {\n",
              "        vertical-align: middle;\n",
              "    }\n",
              "\n",
              "    .dataframe tbody tr th {\n",
              "        vertical-align: top;\n",
              "    }\n",
              "\n",
              "    .dataframe thead th {\n",
              "        text-align: right;\n",
              "    }\n",
              "</style>\n",
              "<table border=\"1\" class=\"dataframe\">\n",
              "  <thead>\n",
              "    <tr style=\"text-align: right;\">\n",
              "      <th></th>\n",
              "      <th>rdi4p</th>\n",
              "    </tr>\n",
              "  </thead>\n",
              "  <tbody>\n",
              "    <tr>\n",
              "      <th>3</th>\n",
              "      <td>0.797342</td>\n",
              "    </tr>\n",
              "    <tr>\n",
              "      <th>4</th>\n",
              "      <td>2.756757</td>\n",
              "    </tr>\n",
              "    <tr>\n",
              "      <th>8</th>\n",
              "      <td>11.948791</td>\n",
              "    </tr>\n",
              "    <tr>\n",
              "      <th>14</th>\n",
              "      <td>16.254980</td>\n",
              "    </tr>\n",
              "    <tr>\n",
              "      <th>15</th>\n",
              "      <td>3.102041</td>\n",
              "    </tr>\n",
              "    <tr>\n",
              "      <th>...</th>\n",
              "      <td>...</td>\n",
              "    </tr>\n",
              "    <tr>\n",
              "      <th>5795</th>\n",
              "      <td>2.108346</td>\n",
              "    </tr>\n",
              "    <tr>\n",
              "      <th>5798</th>\n",
              "      <td>0.469667</td>\n",
              "    </tr>\n",
              "    <tr>\n",
              "      <th>5799</th>\n",
              "      <td>34.415781</td>\n",
              "    </tr>\n",
              "    <tr>\n",
              "      <th>5801</th>\n",
              "      <td>2.163462</td>\n",
              "    </tr>\n",
              "    <tr>\n",
              "      <th>5802</th>\n",
              "      <td>1.038319</td>\n",
              "    </tr>\n",
              "  </tbody>\n",
              "</table>\n",
              "<p>2897 rows × 1 columns</p>\n",
              "</div>"
            ],
            "text/plain": [
              "          rdi4p\n",
              "3      0.797342\n",
              "4      2.756757\n",
              "8     11.948791\n",
              "14    16.254980\n",
              "15     3.102041\n",
              "...         ...\n",
              "5795   2.108346\n",
              "5798   0.469667\n",
              "5799  34.415781\n",
              "5801   2.163462\n",
              "5802   1.038319\n",
              "\n",
              "[2897 rows x 1 columns]"
            ]
          },
          "metadata": {
            "tags": []
          },
          "execution_count": 63
        }
      ]
    },
    {
      "cell_type": "code",
      "metadata": {
        "id": "Pg1BOR2XZliH",
        "colab_type": "code",
        "outputId": "4c68aae1-39bf-4581-b279-a19ebca50959",
        "colab": {
          "base_uri": "https://localhost:8080/",
          "height": 419
        }
      },
      "source": [
        "rdi[rdi < 7] = 0\n",
        "rdi[rdi > 7] = 1\n",
        "rdi = rdi.astype(int)\n",
        "rdi\n"
      ],
      "execution_count": 64,
      "outputs": [
        {
          "output_type": "execute_result",
          "data": {
            "text/html": [
              "<div>\n",
              "<style scoped>\n",
              "    .dataframe tbody tr th:only-of-type {\n",
              "        vertical-align: middle;\n",
              "    }\n",
              "\n",
              "    .dataframe tbody tr th {\n",
              "        vertical-align: top;\n",
              "    }\n",
              "\n",
              "    .dataframe thead th {\n",
              "        text-align: right;\n",
              "    }\n",
              "</style>\n",
              "<table border=\"1\" class=\"dataframe\">\n",
              "  <thead>\n",
              "    <tr style=\"text-align: right;\">\n",
              "      <th></th>\n",
              "      <th>rdi4p</th>\n",
              "    </tr>\n",
              "  </thead>\n",
              "  <tbody>\n",
              "    <tr>\n",
              "      <th>3</th>\n",
              "      <td>0</td>\n",
              "    </tr>\n",
              "    <tr>\n",
              "      <th>4</th>\n",
              "      <td>0</td>\n",
              "    </tr>\n",
              "    <tr>\n",
              "      <th>8</th>\n",
              "      <td>1</td>\n",
              "    </tr>\n",
              "    <tr>\n",
              "      <th>14</th>\n",
              "      <td>1</td>\n",
              "    </tr>\n",
              "    <tr>\n",
              "      <th>15</th>\n",
              "      <td>0</td>\n",
              "    </tr>\n",
              "    <tr>\n",
              "      <th>...</th>\n",
              "      <td>...</td>\n",
              "    </tr>\n",
              "    <tr>\n",
              "      <th>5795</th>\n",
              "      <td>0</td>\n",
              "    </tr>\n",
              "    <tr>\n",
              "      <th>5798</th>\n",
              "      <td>0</td>\n",
              "    </tr>\n",
              "    <tr>\n",
              "      <th>5799</th>\n",
              "      <td>1</td>\n",
              "    </tr>\n",
              "    <tr>\n",
              "      <th>5801</th>\n",
              "      <td>0</td>\n",
              "    </tr>\n",
              "    <tr>\n",
              "      <th>5802</th>\n",
              "      <td>0</td>\n",
              "    </tr>\n",
              "  </tbody>\n",
              "</table>\n",
              "<p>2897 rows × 1 columns</p>\n",
              "</div>"
            ],
            "text/plain": [
              "      rdi4p\n",
              "3         0\n",
              "4         0\n",
              "8         1\n",
              "14        1\n",
              "15        0\n",
              "...     ...\n",
              "5795      0\n",
              "5798      0\n",
              "5799      1\n",
              "5801      0\n",
              "5802      0\n",
              "\n",
              "[2897 rows x 1 columns]"
            ]
          },
          "metadata": {
            "tags": []
          },
          "execution_count": 64
        }
      ]
    },
    {
      "cell_type": "code",
      "metadata": {
        "id": "XHFqJRknaRYE",
        "colab_type": "code",
        "outputId": "53bfe490-22ea-498f-c4df-8b945c5de0af",
        "colab": {
          "base_uri": "https://localhost:8080/",
          "height": 439
        }
      },
      "source": [
        "X = dat.drop([\"rdi4p\",\"pptid\"], axis=1)\n",
        "X"
      ],
      "execution_count": 65,
      "outputs": [
        {
          "output_type": "execute_result",
          "data": {
            "text/html": [
              "<div>\n",
              "<style scoped>\n",
              "    .dataframe tbody tr th:only-of-type {\n",
              "        vertical-align: middle;\n",
              "    }\n",
              "\n",
              "    .dataframe tbody tr th {\n",
              "        vertical-align: top;\n",
              "    }\n",
              "\n",
              "    .dataframe thead th {\n",
              "        text-align: right;\n",
              "    }\n",
              "</style>\n",
              "<table border=\"1\" class=\"dataframe\">\n",
              "  <thead>\n",
              "    <tr style=\"text-align: right;\">\n",
              "      <th></th>\n",
              "      <th>waist</th>\n",
              "      <th>COPD15</th>\n",
              "      <th>ASTHMA15</th>\n",
              "      <th>slp_lat</th>\n",
              "      <th>time_bed</th>\n",
              "      <th>timest1p</th>\n",
              "      <th>timest2p</th>\n",
              "      <th>times34p</th>\n",
              "      <th>timeremp</th>\n",
              "      <th>StLOutP</th>\n",
              "      <th>StOnsetP</th>\n",
              "      <th>SlpPrdP</th>\n",
              "      <th>Staging1</th>\n",
              "      <th>Staging2</th>\n",
              "      <th>Staging3</th>\n",
              "      <th>Staging4</th>\n",
              "      <th>Staging5</th>\n",
              "      <th>RestAn1</th>\n",
              "      <th>RestAn2</th>\n",
              "      <th>RestAn3</th>\n",
              "      <th>RestAn4</th>\n",
              "      <th>HTNDerv_s1</th>\n",
              "      <th>shhs1_tcvd</th>\n",
              "      <th>gender</th>\n",
              "      <th>age_s1</th>\n",
              "      <th>smokstat_s1</th>\n",
              "      <th>WASO</th>\n",
              "      <th>bmi_s1</th>\n",
              "    </tr>\n",
              "  </thead>\n",
              "  <tbody>\n",
              "    <tr>\n",
              "      <th>3</th>\n",
              "      <td>85.0</td>\n",
              "      <td>0.0</td>\n",
              "      <td>0.0</td>\n",
              "      <td>14.0</td>\n",
              "      <td>358.5</td>\n",
              "      <td>2.990033</td>\n",
              "      <td>29.401993</td>\n",
              "      <td>52.325581</td>\n",
              "      <td>15.282393</td>\n",
              "      <td>54</td>\n",
              "      <td>82</td>\n",
              "      <td>301.0</td>\n",
              "      <td>1.0</td>\n",
              "      <td>0.0</td>\n",
              "      <td>0.0</td>\n",
              "      <td>0.0</td>\n",
              "      <td>0.0</td>\n",
              "      <td>1.0</td>\n",
              "      <td>0.0</td>\n",
              "      <td>0.0</td>\n",
              "      <td>0.0</td>\n",
              "      <td>1</td>\n",
              "      <td>0</td>\n",
              "      <td>1</td>\n",
              "      <td>48</td>\n",
              "      <td>0.0</td>\n",
              "      <td>43.5</td>\n",
              "      <td>20.185185</td>\n",
              "    </tr>\n",
              "    <tr>\n",
              "      <th>4</th>\n",
              "      <td>76.0</td>\n",
              "      <td>0.0</td>\n",
              "      <td>0.0</td>\n",
              "      <td>6.5</td>\n",
              "      <td>477.0</td>\n",
              "      <td>5.675676</td>\n",
              "      <td>68.648651</td>\n",
              "      <td>13.378378</td>\n",
              "      <td>12.297297</td>\n",
              "      <td>7</td>\n",
              "      <td>20</td>\n",
              "      <td>370.0</td>\n",
              "      <td>1.0</td>\n",
              "      <td>0.0</td>\n",
              "      <td>0.0</td>\n",
              "      <td>0.0</td>\n",
              "      <td>0.0</td>\n",
              "      <td>1.0</td>\n",
              "      <td>0.0</td>\n",
              "      <td>0.0</td>\n",
              "      <td>0.0</td>\n",
              "      <td>1</td>\n",
              "      <td>0</td>\n",
              "      <td>0</td>\n",
              "      <td>66</td>\n",
              "      <td>2.0</td>\n",
              "      <td>100.5</td>\n",
              "      <td>23.309053</td>\n",
              "    </tr>\n",
              "    <tr>\n",
              "      <th>8</th>\n",
              "      <td>99.0</td>\n",
              "      <td>0.0</td>\n",
              "      <td>0.0</td>\n",
              "      <td>20.0</td>\n",
              "      <td>424.0</td>\n",
              "      <td>5.405406</td>\n",
              "      <td>42.389759</td>\n",
              "      <td>33.570412</td>\n",
              "      <td>18.634424</td>\n",
              "      <td>133</td>\n",
              "      <td>173</td>\n",
              "      <td>351.5</td>\n",
              "      <td>1.0</td>\n",
              "      <td>0.0</td>\n",
              "      <td>0.0</td>\n",
              "      <td>0.0</td>\n",
              "      <td>0.0</td>\n",
              "      <td>1.0</td>\n",
              "      <td>0.0</td>\n",
              "      <td>0.0</td>\n",
              "      <td>0.0</td>\n",
              "      <td>1</td>\n",
              "      <td>0</td>\n",
              "      <td>1</td>\n",
              "      <td>69</td>\n",
              "      <td>2.0</td>\n",
              "      <td>52.5</td>\n",
              "      <td>25.817447</td>\n",
              "    </tr>\n",
              "    <tr>\n",
              "      <th>14</th>\n",
              "      <td>80.0</td>\n",
              "      <td>0.0</td>\n",
              "      <td>0.0</td>\n",
              "      <td>66.5</td>\n",
              "      <td>450.0</td>\n",
              "      <td>10.159363</td>\n",
              "      <td>64.741035</td>\n",
              "      <td>11.553785</td>\n",
              "      <td>13.545816</td>\n",
              "      <td>33</td>\n",
              "      <td>166</td>\n",
              "      <td>251.0</td>\n",
              "      <td>1.0</td>\n",
              "      <td>0.0</td>\n",
              "      <td>0.0</td>\n",
              "      <td>0.0</td>\n",
              "      <td>0.0</td>\n",
              "      <td>1.0</td>\n",
              "      <td>0.0</td>\n",
              "      <td>0.0</td>\n",
              "      <td>0.0</td>\n",
              "      <td>1</td>\n",
              "      <td>0</td>\n",
              "      <td>0</td>\n",
              "      <td>58</td>\n",
              "      <td>2.0</td>\n",
              "      <td>132.5</td>\n",
              "      <td>23.937672</td>\n",
              "    </tr>\n",
              "    <tr>\n",
              "      <th>15</th>\n",
              "      <td>100.0</td>\n",
              "      <td>0.0</td>\n",
              "      <td>0.0</td>\n",
              "      <td>69.5</td>\n",
              "      <td>521.0</td>\n",
              "      <td>10.340137</td>\n",
              "      <td>54.693878</td>\n",
              "      <td>20.000000</td>\n",
              "      <td>14.965986</td>\n",
              "      <td>15</td>\n",
              "      <td>154</td>\n",
              "      <td>367.5</td>\n",
              "      <td>1.0</td>\n",
              "      <td>0.0</td>\n",
              "      <td>0.0</td>\n",
              "      <td>0.0</td>\n",
              "      <td>0.0</td>\n",
              "      <td>1.0</td>\n",
              "      <td>0.0</td>\n",
              "      <td>0.0</td>\n",
              "      <td>0.0</td>\n",
              "      <td>1</td>\n",
              "      <td>0</td>\n",
              "      <td>1</td>\n",
              "      <td>60</td>\n",
              "      <td>0.0</td>\n",
              "      <td>84.0</td>\n",
              "      <td>29.475309</td>\n",
              "    </tr>\n",
              "    <tr>\n",
              "      <th>...</th>\n",
              "      <td>...</td>\n",
              "      <td>...</td>\n",
              "      <td>...</td>\n",
              "      <td>...</td>\n",
              "      <td>...</td>\n",
              "      <td>...</td>\n",
              "      <td>...</td>\n",
              "      <td>...</td>\n",
              "      <td>...</td>\n",
              "      <td>...</td>\n",
              "      <td>...</td>\n",
              "      <td>...</td>\n",
              "      <td>...</td>\n",
              "      <td>...</td>\n",
              "      <td>...</td>\n",
              "      <td>...</td>\n",
              "      <td>...</td>\n",
              "      <td>...</td>\n",
              "      <td>...</td>\n",
              "      <td>...</td>\n",
              "      <td>...</td>\n",
              "      <td>...</td>\n",
              "      <td>...</td>\n",
              "      <td>...</td>\n",
              "      <td>...</td>\n",
              "      <td>...</td>\n",
              "      <td>...</td>\n",
              "      <td>...</td>\n",
              "    </tr>\n",
              "    <tr>\n",
              "      <th>5795</th>\n",
              "      <td>117.0</td>\n",
              "      <td>0.0</td>\n",
              "      <td>0.0</td>\n",
              "      <td>29.5</td>\n",
              "      <td>426.5</td>\n",
              "      <td>2.196193</td>\n",
              "      <td>32.650074</td>\n",
              "      <td>40.556370</td>\n",
              "      <td>24.597364</td>\n",
              "      <td>86</td>\n",
              "      <td>145</td>\n",
              "      <td>341.5</td>\n",
              "      <td>1.0</td>\n",
              "      <td>0.0</td>\n",
              "      <td>0.0</td>\n",
              "      <td>0.0</td>\n",
              "      <td>0.0</td>\n",
              "      <td>1.0</td>\n",
              "      <td>0.0</td>\n",
              "      <td>0.0</td>\n",
              "      <td>0.0</td>\n",
              "      <td>1</td>\n",
              "      <td>0</td>\n",
              "      <td>0</td>\n",
              "      <td>71</td>\n",
              "      <td>0.0</td>\n",
              "      <td>55.5</td>\n",
              "      <td>35.790598</td>\n",
              "    </tr>\n",
              "    <tr>\n",
              "      <th>5798</th>\n",
              "      <td>103.0</td>\n",
              "      <td>0.0</td>\n",
              "      <td>0.0</td>\n",
              "      <td>10.5</td>\n",
              "      <td>279.0</td>\n",
              "      <td>2.152642</td>\n",
              "      <td>48.727985</td>\n",
              "      <td>28.962818</td>\n",
              "      <td>20.156555</td>\n",
              "      <td>31</td>\n",
              "      <td>52</td>\n",
              "      <td>255.5</td>\n",
              "      <td>1.0</td>\n",
              "      <td>0.0</td>\n",
              "      <td>0.0</td>\n",
              "      <td>0.0</td>\n",
              "      <td>0.0</td>\n",
              "      <td>1.0</td>\n",
              "      <td>0.0</td>\n",
              "      <td>0.0</td>\n",
              "      <td>0.0</td>\n",
              "      <td>0</td>\n",
              "      <td>0</td>\n",
              "      <td>0</td>\n",
              "      <td>54</td>\n",
              "      <td>2.0</td>\n",
              "      <td>13.0</td>\n",
              "      <td>32.414213</td>\n",
              "    </tr>\n",
              "    <tr>\n",
              "      <th>5799</th>\n",
              "      <td>99.0</td>\n",
              "      <td>0.0</td>\n",
              "      <td>0.0</td>\n",
              "      <td>11.5</td>\n",
              "      <td>439.5</td>\n",
              "      <td>12.746586</td>\n",
              "      <td>61.001518</td>\n",
              "      <td>0.303490</td>\n",
              "      <td>25.948406</td>\n",
              "      <td>153</td>\n",
              "      <td>176</td>\n",
              "      <td>329.5</td>\n",
              "      <td>1.0</td>\n",
              "      <td>0.0</td>\n",
              "      <td>0.0</td>\n",
              "      <td>0.0</td>\n",
              "      <td>0.0</td>\n",
              "      <td>0.0</td>\n",
              "      <td>0.0</td>\n",
              "      <td>1.0</td>\n",
              "      <td>0.0</td>\n",
              "      <td>0</td>\n",
              "      <td>0</td>\n",
              "      <td>1</td>\n",
              "      <td>66</td>\n",
              "      <td>0.0</td>\n",
              "      <td>98.5</td>\n",
              "      <td>25.693134</td>\n",
              "    </tr>\n",
              "    <tr>\n",
              "      <th>5801</th>\n",
              "      <td>91.0</td>\n",
              "      <td>0.0</td>\n",
              "      <td>0.0</td>\n",
              "      <td>4.0</td>\n",
              "      <td>450.0</td>\n",
              "      <td>3.125000</td>\n",
              "      <td>55.408653</td>\n",
              "      <td>19.591347</td>\n",
              "      <td>21.875000</td>\n",
              "      <td>9</td>\n",
              "      <td>17</td>\n",
              "      <td>416.0</td>\n",
              "      <td>0.0</td>\n",
              "      <td>0.0</td>\n",
              "      <td>0.0</td>\n",
              "      <td>1.0</td>\n",
              "      <td>0.0</td>\n",
              "      <td>1.0</td>\n",
              "      <td>0.0</td>\n",
              "      <td>0.0</td>\n",
              "      <td>0.0</td>\n",
              "      <td>0</td>\n",
              "      <td>0</td>\n",
              "      <td>1</td>\n",
              "      <td>55</td>\n",
              "      <td>0.0</td>\n",
              "      <td>30.0</td>\n",
              "      <td>24.228571</td>\n",
              "    </tr>\n",
              "    <tr>\n",
              "      <th>5802</th>\n",
              "      <td>93.0</td>\n",
              "      <td>0.0</td>\n",
              "      <td>0.0</td>\n",
              "      <td>8.0</td>\n",
              "      <td>488.5</td>\n",
              "      <td>5.067985</td>\n",
              "      <td>63.164402</td>\n",
              "      <td>9.888752</td>\n",
              "      <td>21.878862</td>\n",
              "      <td>90</td>\n",
              "      <td>106</td>\n",
              "      <td>404.5</td>\n",
              "      <td>1.0</td>\n",
              "      <td>0.0</td>\n",
              "      <td>0.0</td>\n",
              "      <td>0.0</td>\n",
              "      <td>0.0</td>\n",
              "      <td>0.0</td>\n",
              "      <td>0.0</td>\n",
              "      <td>1.0</td>\n",
              "      <td>0.0</td>\n",
              "      <td>0</td>\n",
              "      <td>0</td>\n",
              "      <td>1</td>\n",
              "      <td>53</td>\n",
              "      <td>0.0</td>\n",
              "      <td>76.0</td>\n",
              "      <td>25.374483</td>\n",
              "    </tr>\n",
              "  </tbody>\n",
              "</table>\n",
              "<p>2897 rows × 28 columns</p>\n",
              "</div>"
            ],
            "text/plain": [
              "      waist  COPD15  ASTHMA15  slp_lat  ...  age_s1  smokstat_s1   WASO     bmi_s1\n",
              "3      85.0     0.0       0.0     14.0  ...      48          0.0   43.5  20.185185\n",
              "4      76.0     0.0       0.0      6.5  ...      66          2.0  100.5  23.309053\n",
              "8      99.0     0.0       0.0     20.0  ...      69          2.0   52.5  25.817447\n",
              "14     80.0     0.0       0.0     66.5  ...      58          2.0  132.5  23.937672\n",
              "15    100.0     0.0       0.0     69.5  ...      60          0.0   84.0  29.475309\n",
              "...     ...     ...       ...      ...  ...     ...          ...    ...        ...\n",
              "5795  117.0     0.0       0.0     29.5  ...      71          0.0   55.5  35.790598\n",
              "5798  103.0     0.0       0.0     10.5  ...      54          2.0   13.0  32.414213\n",
              "5799   99.0     0.0       0.0     11.5  ...      66          0.0   98.5  25.693134\n",
              "5801   91.0     0.0       0.0      4.0  ...      55          0.0   30.0  24.228571\n",
              "5802   93.0     0.0       0.0      8.0  ...      53          0.0   76.0  25.374483\n",
              "\n",
              "[2897 rows x 28 columns]"
            ]
          },
          "metadata": {
            "tags": []
          },
          "execution_count": 65
        }
      ]
    },
    {
      "cell_type": "code",
      "metadata": {
        "id": "TQXQJlV5eWrH",
        "colab_type": "code",
        "outputId": "de07f47b-558a-441a-a9d1-84731406eee1",
        "colab": {
          "base_uri": "https://localhost:8080/",
          "height": 238
        }
      },
      "source": [
        "# Separate training and test data\n",
        "X_train, X_test, y_train, y_test = train_test_split(X, rdi, test_size=0.2)\n",
        "scaler = preprocessing.StandardScaler().fit(X_train)\n",
        "scaler.transform(X_train)\n",
        "scaler.transform(X_test)"
      ],
      "execution_count": 66,
      "outputs": [
        {
          "output_type": "execute_result",
          "data": {
            "text/plain": [
              "array([[-1.21685054, -0.09619785, -0.19617508, ..., -1.00264747,\n",
              "         2.22488609, -1.28191779],\n",
              "       [-0.85238048, -0.09619785, -0.19617508, ..., -1.00264747,\n",
              "        -0.54685562,  0.05643812],\n",
              "       [-0.05783575, -0.09619785, -0.19617508, ...,  0.0466453 ,\n",
              "        -0.22938741, -0.47774143],\n",
              "       ...,\n",
              "       [-1.72710863, -0.09619785, -0.19617508, ...,  1.09593806,\n",
              "         2.5423543 , -0.89344508],\n",
              "       [-0.29109659, -0.09619785, -0.19617508, ...,  1.09593806,\n",
              "         2.3836202 ,  0.21692731],\n",
              "       [-0.3421224 , -0.09619785, -0.19617508, ..., -1.00264747,\n",
              "         0.61312439,  0.01360812]])"
            ]
          },
          "metadata": {
            "tags": []
          },
          "execution_count": 66
        }
      ]
    },
    {
      "cell_type": "code",
      "metadata": {
        "id": "evHtRgEvasmC",
        "colab_type": "code",
        "colab": {}
      },
      "source": [
        "model = tf.keras.Sequential([\n",
        "  tf.keras.layers.Dense(64, activation='relu',input_dim=28),\n",
        "  tf.keras.layers.Dense(10, activation='relu'),\n",
        "  tf.keras.layers.Dense(1,activation='sigmoid')\n",
        "])\n",
        "model.compile(optimizer='adam',\n",
        "              loss='binary_crossentropy',\n",
        "              metrics=['accuracy'])"
      ],
      "execution_count": 0,
      "outputs": []
    },
    {
      "cell_type": "code",
      "metadata": {
        "id": "6OpNU0EkdAxd",
        "colab_type": "code",
        "outputId": "256ca24c-d8ae-436f-c194-51d2a16c35d6",
        "colab": {
          "base_uri": "https://localhost:8080/",
          "height": 204
        }
      },
      "source": [
        "model.fit(X_train, y_train, epochs=5)"
      ],
      "execution_count": 72,
      "outputs": [
        {
          "output_type": "stream",
          "text": [
            "Epoch 1/5\n",
            "73/73 [==============================] - 0s 1ms/step - loss: 0.7481 - accuracy: 0.6280\n",
            "Epoch 2/5\n",
            "73/73 [==============================] - 0s 1ms/step - loss: 0.9455 - accuracy: 0.6271\n",
            "Epoch 3/5\n",
            "73/73 [==============================] - 0s 1ms/step - loss: 0.7136 - accuracy: 0.6491\n",
            "Epoch 4/5\n",
            "73/73 [==============================] - 0s 1ms/step - loss: 0.6716 - accuracy: 0.6599\n",
            "Epoch 5/5\n",
            "73/73 [==============================] - 0s 1ms/step - loss: 0.6986 - accuracy: 0.6543\n"
          ],
          "name": "stdout"
        },
        {
          "output_type": "execute_result",
          "data": {
            "text/plain": [
              "<tensorflow.python.keras.callbacks.History at 0x7f1357f37f98>"
            ]
          },
          "metadata": {
            "tags": []
          },
          "execution_count": 72
        }
      ]
    },
    {
      "cell_type": "code",
      "metadata": {
        "id": "iYVzaI-6fEJY",
        "colab_type": "code",
        "outputId": "81851470-a036-4950-8d43-db4b59ef3fcc",
        "colab": {
          "base_uri": "https://localhost:8080/",
          "height": 51
        }
      },
      "source": [
        "model.evaluate(X_test, y_test)"
      ],
      "execution_count": 73,
      "outputs": [
        {
          "output_type": "stream",
          "text": [
            "19/19 [==============================] - 0s 1ms/step - loss: 0.7489 - accuracy: 0.6086\n"
          ],
          "name": "stdout"
        },
        {
          "output_type": "execute_result",
          "data": {
            "text/plain": [
              "[0.7489436864852905, 0.6086207032203674]"
            ]
          },
          "metadata": {
            "tags": []
          },
          "execution_count": 73
        }
      ]
    },
    {
      "cell_type": "markdown",
      "metadata": {
        "id": "Vc5H5a3qZkhL",
        "colab_type": "text"
      },
      "source": [
        "**Logistic Regression**"
      ]
    },
    {
      "cell_type": "code",
      "metadata": {
        "id": "ffedAcmPZjv2",
        "colab_type": "code",
        "colab": {}
      },
      "source": [
        "from sklearn.linear_model import LogisticRegression\n",
        "from sklearn.metrics import mean_squared_error\n"
      ],
      "execution_count": 0,
      "outputs": []
    },
    {
      "cell_type": "markdown",
      "metadata": {
        "id": "qKDR2El1a71C",
        "colab_type": "text"
      },
      "source": [
        "L1 (Lasso regression"
      ]
    },
    {
      "cell_type": "code",
      "metadata": {
        "id": "jzdUYTLdZwAK",
        "colab_type": "code",
        "outputId": "319b7db0-e155-44cf-9c85-9066ba1a1c27",
        "colab": {
          "base_uri": "https://localhost:8080/",
          "height": 88
        }
      },
      "source": [
        "model2 = LogisticRegression(solver='liblinear',penalty=\"l1\")\n",
        "model2.fit(X_train, y_train)\n",
        "predict_2 = model2.predict(X_test)\n",
        "accuracy_score(y_test, predict_2)\n",
        "# mse2 = mean_squared_error(y_test, predict_2)\n",
        "# mse2"
      ],
      "execution_count": 76,
      "outputs": [
        {
          "output_type": "stream",
          "text": [
            "/usr/local/lib/python3.6/dist-packages/sklearn/utils/validation.py:760: DataConversionWarning: A column-vector y was passed when a 1d array was expected. Please change the shape of y to (n_samples, ), for example using ravel().\n",
            "  y = column_or_1d(y, warn=True)\n"
          ],
          "name": "stderr"
        },
        {
          "output_type": "execute_result",
          "data": {
            "text/plain": [
              "0.7034482758620689"
            ]
          },
          "metadata": {
            "tags": []
          },
          "execution_count": 76
        }
      ]
    },
    {
      "cell_type": "markdown",
      "metadata": {
        "id": "rjzJwG85bRg9",
        "colab_type": "text"
      },
      "source": [
        "L2 penalty (Ridge regression)"
      ]
    },
    {
      "cell_type": "code",
      "metadata": {
        "id": "g9fV-b-ebSQf",
        "colab_type": "code",
        "outputId": "ff538721-c2fd-460b-dab0-38fc4f985021",
        "colab": {
          "base_uri": "https://localhost:8080/",
          "height": 88
        }
      },
      "source": [
        "model3 = LogisticRegression(solver='liblinear',penalty=\"l2\")\n",
        "model3.fit(X_train, y_train)\n",
        "predict_3 = model3.predict(X_test)\n",
        "accuracy_score(y_test, predict_3)\n",
        "# mse3 = mean_squared_error(y_test, predict_3)\n",
        "# mse3"
      ],
      "execution_count": 77,
      "outputs": [
        {
          "output_type": "stream",
          "text": [
            "/usr/local/lib/python3.6/dist-packages/sklearn/utils/validation.py:760: DataConversionWarning: A column-vector y was passed when a 1d array was expected. Please change the shape of y to (n_samples, ), for example using ravel().\n",
            "  y = column_or_1d(y, warn=True)\n"
          ],
          "name": "stderr"
        },
        {
          "output_type": "execute_result",
          "data": {
            "text/plain": [
              "0.6982758620689655"
            ]
          },
          "metadata": {
            "tags": []
          },
          "execution_count": 77
        }
      ]
    },
    {
      "cell_type": "markdown",
      "metadata": {
        "id": "S6hV2_DebYq9",
        "colab_type": "text"
      },
      "source": [
        "Elastic net regression"
      ]
    },
    {
      "cell_type": "code",
      "metadata": {
        "id": "cmq-UrP2bbME",
        "colab_type": "code",
        "outputId": "54dcbab5-868c-460e-c614-0bd93b4e5113",
        "colab": {
          "base_uri": "https://localhost:8080/",
          "height": 122
        }
      },
      "source": [
        "model4 = LogisticRegression(solver='saga',penalty=\"elasticnet\",l1_ratio=0.5)\n",
        "model4.fit(X_train, y_train)\n",
        "predict_4 = model4.predict(X_test)\n",
        "accuracy_score(y_test, predict_4)\n",
        "# mse4 = mean_squared_error(y_test, predict_4)\n",
        "# mse4"
      ],
      "execution_count": 78,
      "outputs": [
        {
          "output_type": "stream",
          "text": [
            "/usr/local/lib/python3.6/dist-packages/sklearn/utils/validation.py:760: DataConversionWarning: A column-vector y was passed when a 1d array was expected. Please change the shape of y to (n_samples, ), for example using ravel().\n",
            "  y = column_or_1d(y, warn=True)\n",
            "/usr/local/lib/python3.6/dist-packages/sklearn/linear_model/_sag.py:330: ConvergenceWarning: The max_iter was reached which means the coef_ did not converge\n",
            "  \"the coef_ did not converge\", ConvergenceWarning)\n"
          ],
          "name": "stderr"
        },
        {
          "output_type": "execute_result",
          "data": {
            "text/plain": [
              "0.6793103448275862"
            ]
          },
          "metadata": {
            "tags": []
          },
          "execution_count": 78
        }
      ]
    },
    {
      "cell_type": "markdown",
      "metadata": {
        "id": "lYlUdqq8brPg",
        "colab_type": "text"
      },
      "source": [
        "No penalty"
      ]
    },
    {
      "cell_type": "code",
      "metadata": {
        "id": "4kSK_aGKbpu3",
        "colab_type": "code",
        "outputId": "693dbe8b-22f5-4d5c-d63f-d0e33b6fa7b9",
        "colab": {
          "base_uri": "https://localhost:8080/",
          "height": 88
        }
      },
      "source": [
        "model5 = LogisticRegression(penalty=\"none\",solver=\"newton-cg\")\n",
        "model5.fit(X_train, y_train)\n",
        "predict_5 = model5.predict(X_test)\n",
        "accuracy_score(y_test, predict_5)\n",
        "# mse5 = mean_squared_error(y_test, predict_5)\n",
        "# mse5"
      ],
      "execution_count": 79,
      "outputs": [
        {
          "output_type": "stream",
          "text": [
            "/usr/local/lib/python3.6/dist-packages/sklearn/utils/validation.py:760: DataConversionWarning: A column-vector y was passed when a 1d array was expected. Please change the shape of y to (n_samples, ), for example using ravel().\n",
            "  y = column_or_1d(y, warn=True)\n"
          ],
          "name": "stderr"
        },
        {
          "output_type": "execute_result",
          "data": {
            "text/plain": [
              "0.6913793103448276"
            ]
          },
          "metadata": {
            "tags": []
          },
          "execution_count": 79
        }
      ]
    },
    {
      "cell_type": "markdown",
      "metadata": {
        "id": "DurNjlVfmsRa",
        "colab_type": "text"
      },
      "source": [
        "**Comparison with HW 7**\n",
        "\n",
        "The best cross validated accuracy of Lasso regression is 0.703.\n",
        "\n",
        "The best cross validated accuracy of Ridge regression is 0.698.\n",
        "\n",
        "The best cross validated accuracy of elastic net is 0.679.\n",
        "\n",
        "The best cross validated accuracy of no penalty is 0.691.\n",
        "\n",
        "By using neural network algorithm, we achieved an accuracy of 0.609, which is significantly smaller than the logistic regression model.\n",
        "\n",
        "The Lasso Regression yielded the best results.\n"
      ]
    }
  ]
}