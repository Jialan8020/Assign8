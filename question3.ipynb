{
  "nbformat": 4,
  "nbformat_minor": 0,
  "metadata": {
    "colab": {
      "name": "question3.ipynb",
      "provenance": [],
      "authorship_tag": "ABX9TyOotCOXrmH6wWdkUEvVwYox",
      "include_colab_link": true
    },
    "kernelspec": {
      "name": "python3",
      "display_name": "Python 3"
    }
  },
  "cells": [
    {
      "cell_type": "markdown",
      "metadata": {
        "id": "view-in-github",
        "colab_type": "text"
      },
      "source": [
        "<a href=\"https://colab.research.google.com/github/Jialan8020/Assign8/blob/master/question3.ipynb\" target=\"_parent\"><img src=\"https://colab.research.google.com/assets/colab-badge.svg\" alt=\"Open In Colab\"/></a>"
      ]
    },
    {
      "cell_type": "markdown",
      "metadata": {
        "id": "E2sJmqF47yB2",
        "colab_type": "text"
      },
      "source": [
        "Fit a multilayer neural network to the oasis data to predict Gold_Lesions. Use 10-fold cross-validation to compare the performance where you hold out 10% of the observation and fit on the remainder, then repeat this process 10 times. Compare the cross validated accuracy to the cross validated accuracy for logistic regression. Note, you won't be able to fit a very complex NN model on this data because the size is small."
      ]
    },
    {
      "cell_type": "markdown",
      "metadata": {
        "id": "a8kIbz8mVRR8",
        "colab_type": "text"
      },
      "source": [
        "###**Neural Network**"
      ]
    },
    {
      "cell_type": "code",
      "metadata": {
        "id": "M0Rzn6Rm7y1r",
        "colab_type": "code",
        "colab": {
          "base_uri": "https://localhost:8080/",
          "height": 71
        },
        "outputId": "faeffad6-fe94-49c8-e688-2eb00c65d7cc"
      },
      "source": [
        "import pandas as pd\n",
        "import seaborn as sns\n",
        "import matplotlib.pyplot as plt\n",
        "import tensorflow as tf\n",
        "import numpy as np\n",
        "from sklearn.model_selection import cross_val_score\n",
        "from tensorflow import keras\n",
        "\n",
        "from sklearn.model_selection import KFold # import KFold\n",
        "from sklearn.linear_model import LogisticRegression\n",
        "from sklearn.metrics import mean_squared_error "
      ],
      "execution_count": 2,
      "outputs": [
        {
          "output_type": "stream",
          "text": [
            "/usr/local/lib/python3.6/dist-packages/statsmodels/tools/_testing.py:19: FutureWarning: pandas.util.testing is deprecated. Use the functions in the public API at pandas.testing instead.\n",
            "  import pandas.util.testing as tm\n"
          ],
          "name": "stderr"
        }
      ]
    },
    {
      "cell_type": "code",
      "metadata": {
        "id": "tFovACy68H3b",
        "colab_type": "code",
        "outputId": "a9baa5cd-e52a-4168-f852-d015671604f3",
        "colab": {
          "base_uri": "https://localhost:8080/",
          "height": 380
        }
      },
      "source": [
        "## Download in the data if it's not already there\n",
        "! if [ ! -e oasis.csv ];\\\n",
        "  then wget https://raw.githubusercontent.com/bcaffo/ds4bme_intro/master/data/oasis.csv; \\\n",
        "fi;\n",
        "\n",
        "## Read in the data and display a few rows\n",
        "dat = pd.read_csv(\"oasis.csv\", header = None)\n",
        "dat.head(4)"
      ],
      "execution_count": 3,
      "outputs": [
        {
          "output_type": "stream",
          "text": [
            "--2020-04-30 01:05:55--  https://raw.githubusercontent.com/bcaffo/ds4bme_intro/master/data/oasis.csv\n",
            "Resolving raw.githubusercontent.com (raw.githubusercontent.com)... 151.101.0.133, 151.101.64.133, 151.101.128.133, ...\n",
            "Connecting to raw.githubusercontent.com (raw.githubusercontent.com)|151.101.0.133|:443... connected.\n",
            "HTTP request sent, awaiting response... 200 OK\n",
            "Length: 22274 (22K) [text/plain]\n",
            "Saving to: ‘oasis.csv’\n",
            "\n",
            "\roasis.csv             0%[                    ]       0  --.-KB/s               \roasis.csv           100%[===================>]  21.75K  --.-KB/s    in 0.01s   \n",
            "\n",
            "2020-04-30 01:05:55 (1.76 MB/s) - ‘oasis.csv’ saved [22274/22274]\n",
            "\n"
          ],
          "name": "stdout"
        },
        {
          "output_type": "execute_result",
          "data": {
            "text/html": [
              "<div>\n",
              "<style scoped>\n",
              "    .dataframe tbody tr th:only-of-type {\n",
              "        vertical-align: middle;\n",
              "    }\n",
              "\n",
              "    .dataframe tbody tr th {\n",
              "        vertical-align: top;\n",
              "    }\n",
              "\n",
              "    .dataframe thead th {\n",
              "        text-align: right;\n",
              "    }\n",
              "</style>\n",
              "<table border=\"1\" class=\"dataframe\">\n",
              "  <thead>\n",
              "    <tr style=\"text-align: right;\">\n",
              "      <th></th>\n",
              "      <th>0</th>\n",
              "      <th>1</th>\n",
              "      <th>2</th>\n",
              "      <th>3</th>\n",
              "      <th>4</th>\n",
              "      <th>5</th>\n",
              "      <th>6</th>\n",
              "      <th>7</th>\n",
              "      <th>8</th>\n",
              "      <th>9</th>\n",
              "      <th>10</th>\n",
              "      <th>11</th>\n",
              "      <th>12</th>\n",
              "    </tr>\n",
              "  </thead>\n",
              "  <tbody>\n",
              "    <tr>\n",
              "      <th>0</th>\n",
              "      <td>FLAIR</td>\n",
              "      <td>PD</td>\n",
              "      <td>T1</td>\n",
              "      <td>T2</td>\n",
              "      <td>FLAIR_10</td>\n",
              "      <td>PD_10</td>\n",
              "      <td>T1_10</td>\n",
              "      <td>T2_10</td>\n",
              "      <td>FLAIR_20</td>\n",
              "      <td>PD_20</td>\n",
              "      <td>T1_20</td>\n",
              "      <td>T2_20</td>\n",
              "      <td>GOLD_Lesions</td>\n",
              "    </tr>\n",
              "    <tr>\n",
              "      <th>1</th>\n",
              "      <td>1.14369177818298</td>\n",
              "      <td>1.58621907234192</td>\n",
              "      <td>-0.799859464168549</td>\n",
              "      <td>1.63446724414825</td>\n",
              "      <td>0.437568068504333</td>\n",
              "      <td>0.823800206184387</td>\n",
              "      <td>-0.00205940613523126</td>\n",
              "      <td>0.573662877082825</td>\n",
              "      <td>0.279831767082214</td>\n",
              "      <td>0.548341274261475</td>\n",
              "      <td>0.219135880470276</td>\n",
              "      <td>0.298661708831787</td>\n",
              "      <td>0</td>\n",
              "    </tr>\n",
              "    <tr>\n",
              "      <th>2</th>\n",
              "      <td>1.65255188941956</td>\n",
              "      <td>1.76667249202728</td>\n",
              "      <td>-1.25099194049835</td>\n",
              "      <td>0.921229839324951</td>\n",
              "      <td>0.663036644458771</td>\n",
              "      <td>0.880249798297882</td>\n",
              "      <td>-0.422059565782547</td>\n",
              "      <td>0.542597413063049</td>\n",
              "      <td>0.422182232141495</td>\n",
              "      <td>0.549710631370544</td>\n",
              "      <td>0.0615727305412292</td>\n",
              "      <td>0.280972093343735</td>\n",
              "      <td>0</td>\n",
              "    </tr>\n",
              "    <tr>\n",
              "      <th>3</th>\n",
              "      <td>1.03609907627106</td>\n",
              "      <td>0.262042492628098</td>\n",
              "      <td>-0.858564674854279</td>\n",
              "      <td>-0.0582113042473793</td>\n",
              "      <td>-0.0442795343697071</td>\n",
              "      <td>-0.30856865644455</td>\n",
              "      <td>0.0147655792534351</td>\n",
              "      <td>-0.256075173616409</td>\n",
              "      <td>-0.13653177022934</td>\n",
              "      <td>-0.35090509057045</td>\n",
              "      <td>0.0206727329641581</td>\n",
              "      <td>-0.259913682937622</td>\n",
              "      <td>0</td>\n",
              "    </tr>\n",
              "  </tbody>\n",
              "</table>\n",
              "</div>"
            ],
            "text/plain": [
              "                 0                  1   ...                  11            12\n",
              "0             FLAIR                 PD  ...               T2_20  GOLD_Lesions\n",
              "1  1.14369177818298   1.58621907234192  ...   0.298661708831787             0\n",
              "2  1.65255188941956   1.76667249202728  ...   0.280972093343735             0\n",
              "3  1.03609907627106  0.262042492628098  ...  -0.259913682937622             0\n",
              "\n",
              "[4 rows x 13 columns]"
            ]
          },
          "metadata": {
            "tags": []
          },
          "execution_count": 3
        }
      ]
    },
    {
      "cell_type": "code",
      "metadata": {
        "id": "V8jcKbwBKHkn",
        "colab_type": "code",
        "colab": {}
      },
      "source": [
        "dat = dat.values"
      ],
      "execution_count": 0,
      "outputs": []
    },
    {
      "cell_type": "code",
      "metadata": {
        "id": "53PRKv818MMt",
        "colab_type": "code",
        "colab": {}
      },
      "source": [
        "\n",
        "# Get input and output data\n",
        "X = dat[1:,0:12].astype(float)\n",
        "y = dat[1:,12].astype(int)"
      ],
      "execution_count": 0,
      "outputs": []
    },
    {
      "cell_type": "code",
      "metadata": {
        "id": "Nrt6BuKDIhKM",
        "colab_type": "code",
        "colab": {}
      },
      "source": [
        "model = tf.keras.models.Sequential([\n",
        "  tf.keras.layers.Dense(12, activation=\"relu\",input_dim = 12),\n",
        "  tf.keras.layers.Dense(16, activation=\"relu\"),\n",
        "  tf.keras.layers.Dense(1,activation='sigmoid')                                   \n",
        "])\n",
        "\n",
        "model.compile(loss='binary_crossentropy', optimizer='adam', metrics=['accuracy'])"
      ],
      "execution_count": 0,
      "outputs": []
    },
    {
      "cell_type": "code",
      "metadata": {
        "id": "_SfUncDIJz28",
        "colab_type": "code",
        "outputId": "0e0f0f09-7d0a-43e6-c729-55b94c041dc7",
        "colab": {
          "base_uri": "https://localhost:8080/",
          "height": 1000
        }
      },
      "source": [
        "kf = KFold(n_splits=10) # 10-fold cross validation\n",
        "acc = np.zeros(10)\n",
        "i = 0\n",
        "for train_index, test_index in kf.split(X):\n",
        "  X_train, X_test = X[train_index], X[test_index]\n",
        "  y_train, y_test = y[train_index], y[test_index]\n",
        "  \n",
        "  model.fit(X_train,y_train,epochs=5)\n",
        "  result = model.evaluate(X_test,y_test,verbose=2)\n",
        "  print(\"Cross validated accuracy: {}\".format(result[1]))\n",
        "  acc[i] = result[1]\n",
        "  i = i + 1"
      ],
      "execution_count": 9,
      "outputs": [
        {
          "output_type": "stream",
          "text": [
            "Epoch 1/5\n",
            "3/3 [==============================] - 0s 2ms/step - loss: 0.2089 - accuracy: 0.9111\n",
            "Epoch 2/5\n",
            "3/3 [==============================] - 0s 2ms/step - loss: 0.2103 - accuracy: 0.9111\n",
            "Epoch 3/5\n",
            "3/3 [==============================] - 0s 2ms/step - loss: 0.2081 - accuracy: 0.9222\n",
            "Epoch 4/5\n",
            "3/3 [==============================] - 0s 2ms/step - loss: 0.2043 - accuracy: 0.9333\n",
            "Epoch 5/5\n",
            "3/3 [==============================] - 0s 2ms/step - loss: 0.2036 - accuracy: 0.9333\n",
            "1/1 - 0s - loss: 0.1745 - accuracy: 0.9000\n",
            "Cross validated accuracy: 0.8999999761581421\n",
            "Epoch 1/5\n",
            "3/3 [==============================] - 0s 2ms/step - loss: 0.2138 - accuracy: 0.9222\n",
            "Epoch 2/5\n",
            "3/3 [==============================] - 0s 2ms/step - loss: 0.2128 - accuracy: 0.9222\n",
            "Epoch 3/5\n",
            "3/3 [==============================] - 0s 2ms/step - loss: 0.2085 - accuracy: 0.9222\n",
            "Epoch 4/5\n",
            "3/3 [==============================] - 0s 2ms/step - loss: 0.2076 - accuracy: 0.9222\n",
            "Epoch 5/5\n",
            "3/3 [==============================] - 0s 2ms/step - loss: 0.2058 - accuracy: 0.9222\n",
            "1/1 - 0s - loss: 0.0977 - accuracy: 1.0000\n",
            "Cross validated accuracy: 1.0\n",
            "Epoch 1/5\n",
            "3/3 [==============================] - 0s 2ms/step - loss: 0.1990 - accuracy: 0.9222\n",
            "Epoch 2/5\n",
            "3/3 [==============================] - 0s 2ms/step - loss: 0.2010 - accuracy: 0.9222\n",
            "Epoch 3/5\n",
            "3/3 [==============================] - 0s 1ms/step - loss: 0.1996 - accuracy: 0.9222\n",
            "Epoch 4/5\n",
            "3/3 [==============================] - 0s 2ms/step - loss: 0.2086 - accuracy: 0.9222\n",
            "Epoch 5/5\n",
            "3/3 [==============================] - 0s 2ms/step - loss: 0.1990 - accuracy: 0.9222\n",
            "1/1 - 0s - loss: 0.1226 - accuracy: 1.0000\n",
            "Cross validated accuracy: 1.0\n",
            "Epoch 1/5\n",
            "3/3 [==============================] - 0s 2ms/step - loss: 0.1873 - accuracy: 0.9333\n",
            "Epoch 2/5\n",
            "3/3 [==============================] - 0s 2ms/step - loss: 0.1849 - accuracy: 0.9333\n",
            "Epoch 3/5\n",
            "3/3 [==============================] - 0s 2ms/step - loss: 0.1921 - accuracy: 0.9333\n",
            "Epoch 4/5\n",
            "3/3 [==============================] - 0s 2ms/step - loss: 0.1840 - accuracy: 0.9333\n",
            "Epoch 5/5\n",
            "3/3 [==============================] - 0s 2ms/step - loss: 0.1859 - accuracy: 0.9333\n",
            "1/1 - 0s - loss: 0.1944 - accuracy: 0.9000\n",
            "Cross validated accuracy: 0.8999999761581421\n",
            "Epoch 1/5\n",
            "3/3 [==============================] - 0s 2ms/step - loss: 0.1508 - accuracy: 0.9556\n",
            "Epoch 2/5\n",
            "3/3 [==============================] - 0s 2ms/step - loss: 0.1506 - accuracy: 0.9556\n",
            "Epoch 3/5\n",
            "3/3 [==============================] - 0s 1ms/step - loss: 0.1482 - accuracy: 0.9556\n",
            "Epoch 4/5\n",
            "3/3 [==============================] - 0s 2ms/step - loss: 0.1492 - accuracy: 0.9556\n",
            "Epoch 5/5\n",
            "3/3 [==============================] - 0s 2ms/step - loss: 0.1414 - accuracy: 0.9556\n",
            "1/1 - 0s - loss: 0.5503 - accuracy: 0.7000\n",
            "Cross validated accuracy: 0.699999988079071\n",
            "Epoch 1/5\n",
            "3/3 [==============================] - 0s 2ms/step - loss: 0.1751 - accuracy: 0.9333\n",
            "Epoch 2/5\n",
            "3/3 [==============================] - 0s 1ms/step - loss: 0.1678 - accuracy: 0.9333\n",
            "Epoch 3/5\n",
            "3/3 [==============================] - 0s 2ms/step - loss: 0.1664 - accuracy: 0.9333\n",
            "Epoch 4/5\n",
            "3/3 [==============================] - 0s 2ms/step - loss: 0.1560 - accuracy: 0.9333\n",
            "Epoch 5/5\n",
            "3/3 [==============================] - 0s 2ms/step - loss: 0.1595 - accuracy: 0.9222\n",
            "1/1 - 0s - loss: 0.3667 - accuracy: 0.9000\n",
            "Cross validated accuracy: 0.8999999761581421\n",
            "Epoch 1/5\n",
            "3/3 [==============================] - 0s 2ms/step - loss: 0.1727 - accuracy: 0.9222\n",
            "Epoch 2/5\n",
            "3/3 [==============================] - 0s 2ms/step - loss: 0.1696 - accuracy: 0.9333\n",
            "Epoch 3/5\n",
            "3/3 [==============================] - 0s 2ms/step - loss: 0.1717 - accuracy: 0.9333\n",
            "Epoch 4/5\n",
            "3/3 [==============================] - 0s 2ms/step - loss: 0.1705 - accuracy: 0.9333\n",
            "Epoch 5/5\n",
            "3/3 [==============================] - 0s 2ms/step - loss: 0.1696 - accuracy: 0.9333\n",
            "1/1 - 0s - loss: 0.2579 - accuracy: 0.9000\n",
            "Cross validated accuracy: 0.8999999761581421\n",
            "Epoch 1/5\n",
            "3/3 [==============================] - 0s 2ms/step - loss: 0.1857 - accuracy: 0.9222\n",
            "Epoch 2/5\n",
            "3/3 [==============================] - 0s 2ms/step - loss: 0.1799 - accuracy: 0.9111\n",
            "Epoch 3/5\n",
            "3/3 [==============================] - 0s 1ms/step - loss: 0.1776 - accuracy: 0.9111\n",
            "Epoch 4/5\n",
            "3/3 [==============================] - 0s 1ms/step - loss: 0.1741 - accuracy: 0.9222\n",
            "Epoch 5/5\n",
            "3/3 [==============================] - 0s 2ms/step - loss: 0.1811 - accuracy: 0.9222\n",
            "1/1 - 0s - loss: 0.0826 - accuracy: 1.0000\n",
            "Cross validated accuracy: 1.0\n",
            "Epoch 1/5\n",
            "3/3 [==============================] - 0s 2ms/step - loss: 0.1744 - accuracy: 0.9111\n",
            "Epoch 2/5\n",
            "3/3 [==============================] - 0s 2ms/step - loss: 0.1743 - accuracy: 0.9222\n",
            "Epoch 3/5\n",
            "3/3 [==============================] - 0s 2ms/step - loss: 0.1751 - accuracy: 0.9222\n",
            "Epoch 4/5\n",
            "3/3 [==============================] - 0s 2ms/step - loss: 0.1717 - accuracy: 0.9222\n",
            "Epoch 5/5\n",
            "3/3 [==============================] - 0s 2ms/step - loss: 0.1619 - accuracy: 0.9111\n",
            "1/1 - 0s - loss: 0.1278 - accuracy: 1.0000\n",
            "Cross validated accuracy: 1.0\n",
            "Epoch 1/5\n",
            "3/3 [==============================] - 0s 2ms/step - loss: 0.1726 - accuracy: 0.9222\n",
            "Epoch 2/5\n",
            "3/3 [==============================] - 0s 2ms/step - loss: 0.1628 - accuracy: 0.9222\n",
            "Epoch 3/5\n",
            "3/3 [==============================] - 0s 2ms/step - loss: 0.1609 - accuracy: 0.9222\n",
            "Epoch 4/5\n",
            "3/3 [==============================] - 0s 2ms/step - loss: 0.1647 - accuracy: 0.9333\n",
            "Epoch 5/5\n",
            "3/3 [==============================] - 0s 2ms/step - loss: 0.1653 - accuracy: 0.9333\n",
            "1/1 - 0s - loss: 0.1466 - accuracy: 0.9000\n",
            "Cross validated accuracy: 0.8999999761581421\n"
          ],
          "name": "stdout"
        }
      ]
    },
    {
      "cell_type": "code",
      "metadata": {
        "id": "4naADdgISIhu",
        "colab_type": "code",
        "outputId": "b23b2453-be75-43a0-cea9-529f29585572",
        "colab": {
          "base_uri": "https://localhost:8080/",
          "height": 34
        }
      },
      "source": [
        "# Average accuracy\n",
        "avg_acc = np.mean(acc)\n",
        "avg_acc"
      ],
      "execution_count": 11,
      "outputs": [
        {
          "output_type": "execute_result",
          "data": {
            "text/plain": [
              "0.9199999868869781"
            ]
          },
          "metadata": {
            "tags": []
          },
          "execution_count": 11
        }
      ]
    },
    {
      "cell_type": "markdown",
      "metadata": {
        "id": "bD5AM2ZCStwn",
        "colab_type": "text"
      },
      "source": [
        "###**Logistic Regression**"
      ]
    },
    {
      "cell_type": "code",
      "metadata": {
        "id": "xDcU4V1QSwVd",
        "colab_type": "code",
        "colab": {}
      },
      "source": [
        "model2 = LogisticRegression()"
      ],
      "execution_count": 0,
      "outputs": []
    },
    {
      "cell_type": "code",
      "metadata": {
        "id": "gSLJxVYoTnCw",
        "colab_type": "code",
        "outputId": "3f2a8b7d-4653-4de2-8464-627761d41604",
        "colab": {
          "base_uri": "https://localhost:8080/",
          "height": 357
        }
      },
      "source": [
        "j = 0\n",
        "acc_lg = np.zeros(10)\n",
        "for train_index, test_index in kf.split(X):\n",
        "  X_train, X_test = X[train_index], X[test_index]\n",
        "  y_train, y_test = y[train_index], y[test_index]\n",
        "  \n",
        "  model2.fit(X_train,y_train)\n",
        "  result = model.evaluate(X_test,y_test,verbose=2)\n",
        "  print(\"Cross validated accuracy: {}\".format(result[1]))\n",
        "  acc_lg[j] = result[1]\n",
        "  j = j + 1"
      ],
      "execution_count": 13,
      "outputs": [
        {
          "output_type": "stream",
          "text": [
            "1/1 - 0s - loss: 0.1162 - accuracy: 0.9000\n",
            "Cross validated accuracy: 0.8999999761581421\n",
            "1/1 - 0s - loss: 0.0480 - accuracy: 1.0000\n",
            "Cross validated accuracy: 1.0\n",
            "1/1 - 0s - loss: 0.0704 - accuracy: 1.0000\n",
            "Cross validated accuracy: 1.0\n",
            "1/1 - 0s - loss: 0.1136 - accuracy: 1.0000\n",
            "Cross validated accuracy: 1.0\n",
            "1/1 - 0s - loss: 0.3845 - accuracy: 0.7000\n",
            "Cross validated accuracy: 0.699999988079071\n",
            "1/1 - 0s - loss: 0.3398 - accuracy: 0.9000\n",
            "Cross validated accuracy: 0.8999999761581421\n",
            "1/1 - 0s - loss: 0.1734 - accuracy: 0.9000\n",
            "Cross validated accuracy: 0.8999999761581421\n",
            "1/1 - 0s - loss: 0.0817 - accuracy: 1.0000\n",
            "Cross validated accuracy: 1.0\n",
            "1/1 - 0s - loss: 0.1367 - accuracy: 1.0000\n",
            "Cross validated accuracy: 1.0\n",
            "1/1 - 0s - loss: 0.1466 - accuracy: 0.9000\n",
            "Cross validated accuracy: 0.8999999761581421\n"
          ],
          "name": "stdout"
        }
      ]
    },
    {
      "cell_type": "code",
      "metadata": {
        "id": "aOasp3TSUK5Q",
        "colab_type": "code",
        "outputId": "6ac3189c-c06e-44e6-f7cc-3ae6e1013f8b",
        "colab": {
          "base_uri": "https://localhost:8080/",
          "height": 34
        }
      },
      "source": [
        "# Average accuracy for Logistic Regression\n",
        "avg_acc_lg = np.mean(acc_lg)\n",
        "avg_acc_lg"
      ],
      "execution_count": 14,
      "outputs": [
        {
          "output_type": "execute_result",
          "data": {
            "text/plain": [
              "0.9299999892711639"
            ]
          },
          "metadata": {
            "tags": []
          },
          "execution_count": 14
        }
      ]
    }
  ]
}