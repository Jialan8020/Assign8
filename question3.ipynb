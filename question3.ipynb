{
  "nbformat": 4,
  "nbformat_minor": 0,
  "metadata": {
    "colab": {
      "name": "question3.ipynb",
      "provenance": [],
      "authorship_tag": "ABX9TyOIIRut04/mYLb07y93rWgO",
      "include_colab_link": true
    },
    "kernelspec": {
      "name": "python3",
      "display_name": "Python 3"
    }
  },
  "cells": [
    {
      "cell_type": "markdown",
      "metadata": {
        "id": "view-in-github",
        "colab_type": "text"
      },
      "source": [
        "<a href=\"https://colab.research.google.com/github/Jialan8020/Assign8/blob/master/question3.ipynb\" target=\"_parent\"><img src=\"https://colab.research.google.com/assets/colab-badge.svg\" alt=\"Open In Colab\"/></a>"
      ]
    },
    {
      "cell_type": "markdown",
      "metadata": {
        "id": "E2sJmqF47yB2",
        "colab_type": "text"
      },
      "source": [
        "Fit a multilayer neural network to the oasis data to predict Gold_Lesions. Use 10-fold cross-validation to compare the performance where you hold out 10% of the observation and fit on the remainder, then repeat this process 10 times. Compare the cross validated accuracy to the cross validated accuracy for logistic regression. Note, you won't be able to fit a very complex NN model on this data because the size is small."
      ]
    },
    {
      "cell_type": "markdown",
      "metadata": {
        "id": "a8kIbz8mVRR8",
        "colab_type": "text"
      },
      "source": [
        "###**Neural Network**"
      ]
    },
    {
      "cell_type": "code",
      "metadata": {
        "id": "M0Rzn6Rm7y1r",
        "colab_type": "code",
        "colab": {}
      },
      "source": [
        "import pandas as pd\n",
        "import seaborn as sns\n",
        "import matplotlib.pyplot as plt\n",
        "import tensorflow as tf\n",
        "import numpy as np\n",
        "from sklearn.model_selection import cross_val_score\n",
        "from tensorflow import keras\n",
        "\n",
        "from sklearn.model_selection import KFold # import KFold\n",
        "from sklearn.linear_model import LogisticRegression\n",
        "from sklearn.metrics import mean_squared_error "
      ],
      "execution_count": 0,
      "outputs": []
    },
    {
      "cell_type": "code",
      "metadata": {
        "id": "tFovACy68H3b",
        "colab_type": "code",
        "colab": {
          "base_uri": "https://localhost:8080/",
          "height": 193
        },
        "outputId": "4dc6b9c3-9265-4b3d-fa1d-78757a8bc3fb"
      },
      "source": [
        "## Download in the data if it's not already there\n",
        "! if [ ! -e oasis.csv ];\\\n",
        "  then wget https://raw.githubusercontent.com/bcaffo/ds4bme_intro/master/data/oasis.csv; \\\n",
        "fi;\n",
        "\n",
        "## Read in the data and display a few rows\n",
        "dat = pd.read_csv(\"oasis.csv\", header = None)\n",
        "dat.head(4)"
      ],
      "execution_count": 100,
      "outputs": [
        {
          "output_type": "execute_result",
          "data": {
            "text/html": [
              "<div>\n",
              "<style scoped>\n",
              "    .dataframe tbody tr th:only-of-type {\n",
              "        vertical-align: middle;\n",
              "    }\n",
              "\n",
              "    .dataframe tbody tr th {\n",
              "        vertical-align: top;\n",
              "    }\n",
              "\n",
              "    .dataframe thead th {\n",
              "        text-align: right;\n",
              "    }\n",
              "</style>\n",
              "<table border=\"1\" class=\"dataframe\">\n",
              "  <thead>\n",
              "    <tr style=\"text-align: right;\">\n",
              "      <th></th>\n",
              "      <th>0</th>\n",
              "      <th>1</th>\n",
              "      <th>2</th>\n",
              "      <th>3</th>\n",
              "      <th>4</th>\n",
              "      <th>5</th>\n",
              "      <th>6</th>\n",
              "      <th>7</th>\n",
              "      <th>8</th>\n",
              "      <th>9</th>\n",
              "      <th>10</th>\n",
              "      <th>11</th>\n",
              "      <th>12</th>\n",
              "    </tr>\n",
              "  </thead>\n",
              "  <tbody>\n",
              "    <tr>\n",
              "      <th>0</th>\n",
              "      <td>FLAIR</td>\n",
              "      <td>PD</td>\n",
              "      <td>T1</td>\n",
              "      <td>T2</td>\n",
              "      <td>FLAIR_10</td>\n",
              "      <td>PD_10</td>\n",
              "      <td>T1_10</td>\n",
              "      <td>T2_10</td>\n",
              "      <td>FLAIR_20</td>\n",
              "      <td>PD_20</td>\n",
              "      <td>T1_20</td>\n",
              "      <td>T2_20</td>\n",
              "      <td>GOLD_Lesions</td>\n",
              "    </tr>\n",
              "    <tr>\n",
              "      <th>1</th>\n",
              "      <td>1.14369177818298</td>\n",
              "      <td>1.58621907234192</td>\n",
              "      <td>-0.799859464168549</td>\n",
              "      <td>1.63446724414825</td>\n",
              "      <td>0.437568068504333</td>\n",
              "      <td>0.823800206184387</td>\n",
              "      <td>-0.00205940613523126</td>\n",
              "      <td>0.573662877082825</td>\n",
              "      <td>0.279831767082214</td>\n",
              "      <td>0.548341274261475</td>\n",
              "      <td>0.219135880470276</td>\n",
              "      <td>0.298661708831787</td>\n",
              "      <td>0</td>\n",
              "    </tr>\n",
              "    <tr>\n",
              "      <th>2</th>\n",
              "      <td>1.65255188941956</td>\n",
              "      <td>1.76667249202728</td>\n",
              "      <td>-1.25099194049835</td>\n",
              "      <td>0.921229839324951</td>\n",
              "      <td>0.663036644458771</td>\n",
              "      <td>0.880249798297882</td>\n",
              "      <td>-0.422059565782547</td>\n",
              "      <td>0.542597413063049</td>\n",
              "      <td>0.422182232141495</td>\n",
              "      <td>0.549710631370544</td>\n",
              "      <td>0.0615727305412292</td>\n",
              "      <td>0.280972093343735</td>\n",
              "      <td>0</td>\n",
              "    </tr>\n",
              "    <tr>\n",
              "      <th>3</th>\n",
              "      <td>1.03609907627106</td>\n",
              "      <td>0.262042492628098</td>\n",
              "      <td>-0.858564674854279</td>\n",
              "      <td>-0.0582113042473793</td>\n",
              "      <td>-0.0442795343697071</td>\n",
              "      <td>-0.30856865644455</td>\n",
              "      <td>0.0147655792534351</td>\n",
              "      <td>-0.256075173616409</td>\n",
              "      <td>-0.13653177022934</td>\n",
              "      <td>-0.35090509057045</td>\n",
              "      <td>0.0206727329641581</td>\n",
              "      <td>-0.259913682937622</td>\n",
              "      <td>0</td>\n",
              "    </tr>\n",
              "  </tbody>\n",
              "</table>\n",
              "</div>"
            ],
            "text/plain": [
              "                 0                  1   ...                  11            12\n",
              "0             FLAIR                 PD  ...               T2_20  GOLD_Lesions\n",
              "1  1.14369177818298   1.58621907234192  ...   0.298661708831787             0\n",
              "2  1.65255188941956   1.76667249202728  ...   0.280972093343735             0\n",
              "3  1.03609907627106  0.262042492628098  ...  -0.259913682937622             0\n",
              "\n",
              "[4 rows x 13 columns]"
            ]
          },
          "metadata": {
            "tags": []
          },
          "execution_count": 100
        }
      ]
    },
    {
      "cell_type": "code",
      "metadata": {
        "id": "V8jcKbwBKHkn",
        "colab_type": "code",
        "colab": {}
      },
      "source": [
        "dat = dat.values"
      ],
      "execution_count": 0,
      "outputs": []
    },
    {
      "cell_type": "code",
      "metadata": {
        "id": "53PRKv818MMt",
        "colab_type": "code",
        "colab": {}
      },
      "source": [
        "\n",
        "# Get input and output data\n",
        "X = dat[1:,0:12].astype(float)\n",
        "y = dat[1:,12].astype(int)"
      ],
      "execution_count": 0,
      "outputs": []
    },
    {
      "cell_type": "code",
      "metadata": {
        "id": "Nrt6BuKDIhKM",
        "colab_type": "code",
        "colab": {}
      },
      "source": [
        "model = tf.keras.models.Sequential([\n",
        "  tf.keras.layers.Dense(12, activation=\"relu\",input_dim = 12),\n",
        "  tf.keras.layers.Dense(16, activation=\"relu\"),\n",
        "  tf.keras.layers.Dense(1,activation='sigmoid')                                   \n",
        "])\n",
        "\n",
        "model.compile(loss='binary_crossentropy', optimizer='adam', metrics=['mse'])"
      ],
      "execution_count": 0,
      "outputs": []
    },
    {
      "cell_type": "code",
      "metadata": {
        "id": "_SfUncDIJz28",
        "colab_type": "code",
        "colab": {
          "base_uri": "https://localhost:8080/",
          "height": 1000
        },
        "outputId": "2be88657-98f2-4127-8334-ca195012e0ab"
      },
      "source": [
        "kf = KFold(n_splits=10) # 10-fold cross validation\n",
        "mse = np.zeros(10)\n",
        "i = 0\n",
        "for train_index, test_index in kf.split(X):\n",
        "  X_train, X_test = X[train_index], X[test_index]\n",
        "  y_train, y_test = y[train_index], y[test_index]\n",
        "  \n",
        "  model.fit(X_train,y_train,epochs=5)\n",
        "  result = model.evaluate(X_test,y_test,verbose=2)\n",
        "  print(\"Cross validated mean-square-error: {}\".format(result[1]))\n",
        "  mse[i] = result[1]\n",
        "  i = i + 1"
      ],
      "execution_count": 109,
      "outputs": [
        {
          "output_type": "stream",
          "text": [
            "Epoch 1/5\n",
            "3/3 [==============================] - 0s 2ms/step - loss: 0.3451 - mse: 0.0964\n",
            "Epoch 2/5\n",
            "3/3 [==============================] - 0s 2ms/step - loss: 0.3395 - mse: 0.0946\n",
            "Epoch 3/5\n",
            "3/3 [==============================] - 0s 2ms/step - loss: 0.3352 - mse: 0.0927\n",
            "Epoch 4/5\n",
            "3/3 [==============================] - 0s 2ms/step - loss: 0.3225 - mse: 0.0909\n",
            "Epoch 5/5\n",
            "3/3 [==============================] - 0s 2ms/step - loss: 0.3204 - mse: 0.0902\n",
            "1/1 - 0s - loss: 0.3184 - mse: 0.1093\n",
            "Cross validated mean-square-error: 0.1092982292175293\n",
            "Epoch 1/5\n",
            "3/3 [==============================] - 0s 1ms/step - loss: 0.3234 - mse: 0.0933\n",
            "Epoch 2/5\n",
            "3/3 [==============================] - 0s 2ms/step - loss: 0.3182 - mse: 0.0921\n",
            "Epoch 3/5\n",
            "3/3 [==============================] - 0s 2ms/step - loss: 0.3163 - mse: 0.0911\n",
            "Epoch 4/5\n",
            "3/3 [==============================] - 0s 2ms/step - loss: 0.3175 - mse: 0.0898\n",
            "Epoch 5/5\n",
            "3/3 [==============================] - 0s 2ms/step - loss: 0.3116 - mse: 0.0885\n",
            "1/1 - 0s - loss: 0.2525 - mse: 0.0711\n",
            "Cross validated mean-square-error: 0.07110436260700226\n",
            "Epoch 1/5\n",
            "3/3 [==============================] - 0s 2ms/step - loss: 0.3132 - mse: 0.0893\n",
            "Epoch 2/5\n",
            "3/3 [==============================] - 0s 2ms/step - loss: 0.3014 - mse: 0.0881\n",
            "Epoch 3/5\n",
            "3/3 [==============================] - 0s 2ms/step - loss: 0.3075 - mse: 0.0870\n",
            "Epoch 4/5\n",
            "3/3 [==============================] - 0s 2ms/step - loss: 0.3007 - mse: 0.0861\n",
            "Epoch 5/5\n",
            "3/3 [==============================] - 0s 2ms/step - loss: 0.2941 - mse: 0.0849\n",
            "1/1 - 0s - loss: 0.2187 - mse: 0.0511\n",
            "Cross validated mean-square-error: 0.051060907542705536\n",
            "Epoch 1/5\n",
            "3/3 [==============================] - 0s 2ms/step - loss: 0.2896 - mse: 0.0808\n",
            "Epoch 2/5\n",
            "3/3 [==============================] - 0s 2ms/step - loss: 0.2779 - mse: 0.0798\n",
            "Epoch 3/5\n",
            "3/3 [==============================] - 0s 1ms/step - loss: 0.2754 - mse: 0.0787\n",
            "Epoch 4/5\n",
            "3/3 [==============================] - 0s 2ms/step - loss: 0.2762 - mse: 0.0777\n",
            "Epoch 5/5\n",
            "3/3 [==============================] - 0s 2ms/step - loss: 0.2688 - mse: 0.0768\n",
            "1/1 - 0s - loss: 0.2797 - mse: 0.0745\n",
            "Cross validated mean-square-error: 0.0745052844285965\n",
            "Epoch 1/5\n",
            "3/3 [==============================] - 0s 2ms/step - loss: 0.2504 - mse: 0.0666\n",
            "Epoch 2/5\n",
            "3/3 [==============================] - 0s 2ms/step - loss: 0.2455 - mse: 0.0655\n",
            "Epoch 3/5\n",
            "3/3 [==============================] - 0s 2ms/step - loss: 0.2390 - mse: 0.0646\n",
            "Epoch 4/5\n",
            "3/3 [==============================] - 0s 2ms/step - loss: 0.2367 - mse: 0.0639\n",
            "Epoch 5/5\n",
            "3/3 [==============================] - 0s 2ms/step - loss: 0.2377 - mse: 0.0632\n",
            "1/1 - 0s - loss: 0.4929 - mse: 0.1647\n",
            "Cross validated mean-square-error: 0.1646915078163147\n",
            "Epoch 1/5\n",
            "3/3 [==============================] - 0s 2ms/step - loss: 0.2486 - mse: 0.0695\n",
            "Epoch 2/5\n",
            "3/3 [==============================] - 0s 2ms/step - loss: 0.2413 - mse: 0.0678\n",
            "Epoch 3/5\n",
            "3/3 [==============================] - 0s 2ms/step - loss: 0.2345 - mse: 0.0650\n",
            "Epoch 4/5\n",
            "3/3 [==============================] - 0s 2ms/step - loss: 0.2309 - mse: 0.0625\n",
            "Epoch 5/5\n",
            "3/3 [==============================] - 0s 2ms/step - loss: 0.2252 - mse: 0.0613\n",
            "1/1 - 0s - loss: 0.4179 - mse: 0.1143\n",
            "Cross validated mean-square-error: 0.11434800922870636\n",
            "Epoch 1/5\n",
            "3/3 [==============================] - 0s 2ms/step - loss: 0.2324 - mse: 0.0613\n",
            "Epoch 2/5\n",
            "3/3 [==============================] - 0s 2ms/step - loss: 0.2233 - mse: 0.0601\n",
            "Epoch 3/5\n",
            "3/3 [==============================] - 0s 1ms/step - loss: 0.2241 - mse: 0.0595\n",
            "Epoch 4/5\n",
            "3/3 [==============================] - 0s 1ms/step - loss: 0.2187 - mse: 0.0588\n",
            "Epoch 5/5\n",
            "3/3 [==============================] - 0s 2ms/step - loss: 0.2224 - mse: 0.0582\n",
            "1/1 - 0s - loss: 0.4324 - mse: 0.1115\n",
            "Cross validated mean-square-error: 0.11148513853549957\n",
            "Epoch 1/5\n",
            "3/3 [==============================] - 0s 2ms/step - loss: 0.2458 - mse: 0.0658\n",
            "Epoch 2/5\n",
            "3/3 [==============================] - 0s 2ms/step - loss: 0.2428 - mse: 0.0652\n",
            "Epoch 3/5\n",
            "3/3 [==============================] - 0s 2ms/step - loss: 0.2405 - mse: 0.0654\n",
            "Epoch 4/5\n",
            "3/3 [==============================] - 0s 2ms/step - loss: 0.2339 - mse: 0.0650\n",
            "Epoch 5/5\n",
            "3/3 [==============================] - 0s 2ms/step - loss: 0.2375 - mse: 0.0648\n",
            "1/1 - 0s - loss: 0.1122 - mse: 0.0228\n",
            "Cross validated mean-square-error: 0.022815648466348648\n",
            "Epoch 1/5\n",
            "3/3 [==============================] - 0s 1ms/step - loss: 0.2283 - mse: 0.0595\n",
            "Epoch 2/5\n",
            "3/3 [==============================] - 0s 1ms/step - loss: 0.2141 - mse: 0.0590\n",
            "Epoch 3/5\n",
            "3/3 [==============================] - 0s 2ms/step - loss: 0.2200 - mse: 0.0586\n",
            "Epoch 4/5\n",
            "3/3 [==============================] - 0s 2ms/step - loss: 0.2176 - mse: 0.0580\n",
            "Epoch 5/5\n",
            "3/3 [==============================] - 0s 2ms/step - loss: 0.2167 - mse: 0.0577\n",
            "1/1 - 0s - loss: 0.2333 - mse: 0.0705\n",
            "Cross validated mean-square-error: 0.07054415345191956\n",
            "Epoch 1/5\n",
            "3/3 [==============================] - 0s 2ms/step - loss: 0.2192 - mse: 0.0601\n",
            "Epoch 2/5\n",
            "3/3 [==============================] - 0s 2ms/step - loss: 0.2179 - mse: 0.0596\n",
            "Epoch 3/5\n",
            "3/3 [==============================] - 0s 2ms/step - loss: 0.2109 - mse: 0.0590\n",
            "Epoch 4/5\n",
            "3/3 [==============================] - 0s 2ms/step - loss: 0.2230 - mse: 0.0584\n",
            "Epoch 5/5\n",
            "3/3 [==============================] - 0s 2ms/step - loss: 0.2086 - mse: 0.0580\n",
            "1/1 - 0s - loss: 0.1883 - mse: 0.0496\n",
            "Cross validated mean-square-error: 0.049605198204517365\n"
          ],
          "name": "stdout"
        }
      ]
    },
    {
      "cell_type": "code",
      "metadata": {
        "id": "4naADdgISIhu",
        "colab_type": "code",
        "colab": {
          "base_uri": "https://localhost:8080/",
          "height": 34
        },
        "outputId": "3f25cafb-dcdc-48aa-d5bb-f45631e41cdb"
      },
      "source": [
        "# Average mean-square-error\n",
        "avg_mse = np.mean(mse)\n",
        "avg_mse"
      ],
      "execution_count": 110,
      "outputs": [
        {
          "output_type": "execute_result",
          "data": {
            "text/plain": [
              "0.08394584394991397"
            ]
          },
          "metadata": {
            "tags": []
          },
          "execution_count": 110
        }
      ]
    },
    {
      "cell_type": "markdown",
      "metadata": {
        "id": "bD5AM2ZCStwn",
        "colab_type": "text"
      },
      "source": [
        "###**Logistic Regression**"
      ]
    },
    {
      "cell_type": "code",
      "metadata": {
        "id": "xDcU4V1QSwVd",
        "colab_type": "code",
        "colab": {}
      },
      "source": [
        "model2 = LogisticRegression()"
      ],
      "execution_count": 0,
      "outputs": []
    },
    {
      "cell_type": "code",
      "metadata": {
        "id": "gSLJxVYoTnCw",
        "colab_type": "code",
        "colab": {
          "base_uri": "https://localhost:8080/",
          "height": 357
        },
        "outputId": "5e012914-0b14-4a86-fcf5-9ee033aad9ba"
      },
      "source": [
        "j = 0\n",
        "mse_lg = np.zeros(10)\n",
        "for train_index, test_index in kf.split(X):\n",
        "  X_train, X_test = X[train_index], X[test_index]\n",
        "  y_train, y_test = y[train_index], y[test_index]\n",
        "  \n",
        "  model2.fit(X_train,y_train)\n",
        "  result = model.evaluate(X_test,y_test,verbose=2)\n",
        "  print(\"Cross validated mean-square-error: {}\".format(result[1]))\n",
        "  mse_lg[j] = result[1]\n",
        "  j = j + 1"
      ],
      "execution_count": 111,
      "outputs": [
        {
          "output_type": "stream",
          "text": [
            "1/1 - 0s - loss: 0.1681 - mse: 0.0535\n",
            "Cross validated mean-square-error: 0.05349288135766983\n",
            "1/1 - 0s - loss: 0.0982 - mse: 0.0157\n",
            "Cross validated mean-square-error: 0.015666967257857323\n",
            "1/1 - 0s - loss: 0.1013 - mse: 0.0145\n",
            "Cross validated mean-square-error: 0.014472787268459797\n",
            "1/1 - 0s - loss: 0.1455 - mse: 0.0284\n",
            "Cross validated mean-square-error: 0.028360843658447266\n",
            "1/1 - 0s - loss: 0.3515 - mse: 0.1138\n",
            "Cross validated mean-square-error: 0.1138124093413353\n",
            "1/1 - 0s - loss: 0.3760 - mse: 0.1039\n",
            "Cross validated mean-square-error: 0.10390126705169678\n",
            "1/1 - 0s - loss: 0.3083 - mse: 0.0919\n",
            "Cross validated mean-square-error: 0.09191165864467621\n",
            "1/1 - 0s - loss: 0.1020 - mse: 0.0204\n",
            "Cross validated mean-square-error: 0.020417895168066025\n",
            "1/1 - 0s - loss: 0.2410 - mse: 0.0751\n",
            "Cross validated mean-square-error: 0.07507629692554474\n",
            "1/1 - 0s - loss: 0.1883 - mse: 0.0496\n",
            "Cross validated mean-square-error: 0.049605198204517365\n"
          ],
          "name": "stdout"
        }
      ]
    },
    {
      "cell_type": "code",
      "metadata": {
        "id": "aOasp3TSUK5Q",
        "colab_type": "code",
        "colab": {
          "base_uri": "https://localhost:8080/",
          "height": 34
        },
        "outputId": "84c59df6-e210-463b-b28c-dc281dbf7671"
      },
      "source": [
        "# Average mean-square-error for Logistic Regression\n",
        "avg_mse_lg = np.mean(mse_lg)\n",
        "avg_mse_lg"
      ],
      "execution_count": 112,
      "outputs": [
        {
          "output_type": "execute_result",
          "data": {
            "text/plain": [
              "0.05667182048782706"
            ]
          },
          "metadata": {
            "tags": []
          },
          "execution_count": 112
        }
      ]
    }
  ]
}